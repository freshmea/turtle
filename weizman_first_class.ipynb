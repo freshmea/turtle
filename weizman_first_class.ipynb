{
  "nbformat": 4,
  "nbformat_minor": 0,
  "metadata": {
    "colab": {
      "name": "weizman_first_class.ipynb",
      "provenance": [],
      "authorship_tag": "ABX9TyOeI/F3B8+pJhgSKeaa2/0N",
      "include_colab_link": true
    },
    "kernelspec": {
      "name": "python3",
      "display_name": "Python 3"
    }
  },
  "cells": [
    {
      "cell_type": "markdown",
      "metadata": {
        "id": "view-in-github",
        "colab_type": "text"
      },
      "source": [
        "<a href=\"https://colab.research.google.com/github/freshmea/turtle/blob/master/weizman_first_class.ipynb\" target=\"_parent\"><img src=\"https://colab.research.google.com/assets/colab-badge.svg\" alt=\"Open In Colab\"/></a>"
      ]
    },
    {
      "cell_type": "markdown",
      "metadata": {
        "id": "lPPHMEGEfO8x"
      },
      "source": [
        "구글 코랩을 이용해서 만드는 첫 파이썬 프로그램."
      ]
    },
    {
      "cell_type": "code",
      "metadata": {
        "colab": {
          "base_uri": "https://localhost:8080/"
        },
        "id": "kBwrtzyofMA-",
        "outputId": "45be8b72-5cc0-4a38-e543-7c7f7a6eda71"
      },
      "source": [
        "print('Hello world')"
      ],
      "execution_count": 2,
      "outputs": [
        {
          "output_type": "stream",
          "text": [
            "Hello world\n"
          ],
          "name": "stdout"
        }
      ]
    },
    {
      "cell_type": "markdown",
      "metadata": {
        "id": "ofuC5ZkvfN-c"
      },
      "source": [
        ""
      ]
    }
  ]
}